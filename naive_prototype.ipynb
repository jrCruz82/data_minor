{
 "cells": [
  {
   "cell_type": "code",
   "execution_count": 1,
   "metadata": {},
   "outputs": [],
   "source": [
    "import pandas as pd\n",
    "import sklearn\n",
    "from sklearn.naive_bayes import GaussianNB\n",
    "from sklearn.metrics import accuracy_score\n",
    "from sklearn.model_selection import train_test_split\n",
    "import numpy as np\n",
    "import math"
   ]
  },
  {
   "cell_type": "code",
   "execution_count": 130,
   "metadata": {},
   "outputs": [],
   "source": [
    "df = pd.read_csv('heart_failure_clinical_records_dataset.csv')\n",
    "col_type = {'anaemia':np.bool, 'diabetes':np.bool, \n",
    "            'high_blood_pressure':np.str, 'sex':np.bool, \n",
    "            'smoking':np.bool, 'DEATH_EVENT':np.str}\n",
    "\n",
    "df = df.astype(col_type)\n",
    "x_train, x_test, y_train, y_test = train_test_split(df.drop(\"DEATH_EVENT\", axis=1), \n",
    "                                                    df['DEATH_EVENT'], train_size=0.67, random_state=42)\n"
   ]
  },
  {
   "cell_type": "code",
   "execution_count": 132,
   "metadata": {},
   "outputs": [
    {
     "name": "stdout",
     "output_type": "stream",
     "text": [
      "Gaussian NB 0.7575757575757576\n",
      "Categorical NB 0.5757575757575758\n"
     ]
    }
   ],
   "source": [
    "from sklearn.naive_bayes import GaussianNB\n",
    "gnb = GaussianNB()\n",
    "print('Gaussian NB', gnb.fit(x_train, y_train).score(x_test, y_test))\n",
    "# gnb.predict_proba(x_test)\n",
    "\n",
    "\n",
    "from sklearn.naive_bayes import CategoricalNB\n",
    "\n",
    "clf = CategoricalNB()\n",
    "categorical = ['anaemia', 'diabetes', 'high_blood_pressure', 'sex', 'smoking']\n",
    "print('Categorical NB', clf.fit(x_train[categorical], y_train).score(x_test[categorical], y_test))\n",
    "\n",
    "# clf.predict_proba(x_test[categorical])"
   ]
  },
  {
   "cell_type": "code",
   "execution_count": 127,
   "metadata": {},
   "outputs": [],
   "source": [
    "def prior_prob_categorical(nums:pd.core.series.Series):\n",
    "    return nums.value_counts(normalize=True)\n",
    "    \n",
    "def get_std_dev(nums: pd.core.series.Series):\n",
    "    mean = nums.mean()\n",
    "    return (((nums - mean)**2).aggregate(np.sum)/(len(nums)-1))**0.5\n",
    "# prior_prob_categorical(df['sex'])[\"1\"]\n",
    "\n",
    "def calculate_prob(x, mean, std):\n",
    "    exponent = math.exp((-1 * (x - mean)**2)/(2*(std**2)))\n",
    "    return (1 / (std * (2*math.pi)**0.5)) * exponent\n",
    "\n",
    "assert(calculate_prob(1, 1, 1) == 0.3989422804014327)\n",
    "assert(calculate_prob(2, 1, 1) == 0.24197072451914337)\n"
   ]
  },
  {
   "cell_type": "code",
   "execution_count": 125,
   "metadata": {},
   "outputs": [
    {
     "name": "stdout",
     "output_type": "stream",
     "text": [
      "{'age': {'0': {'mean': 64.94444444444444, 'std': 11.832823976990456},\n",
      "         '1': {'mean': 64.94444444444444, 'std': 11.832823976990456}},\n",
      " 'anaemia': {'0': {'mean': 0.42592592592592593, 'std': 0.49912572061109167},\n",
      "             '1': {'mean': 0.42592592592592593, 'std': 0.49912572061109167}},\n",
      " 'classes': {'0': 0.73, '1': 0.27},\n",
      " 'creatinine_phosphokinase': {'0': {'mean': 629.3888888888889,\n",
      "                                    'std': 1212.318306428072},\n",
      "                              '1': {'mean': 629.3888888888889,\n",
      "                                    'std': 1212.318306428072}},\n",
      " 'diabetes': {'0': {'mean': 0.4074074074074074, 'std': 0.4959655541340459},\n",
      "              '1': {'mean': 0.4074074074074074, 'std': 0.4959655541340459}},\n",
      " 'ejection_fraction': {'0': {'mean': 33.75925925925926,\n",
      "                             'std': 13.091744749002167},\n",
      "                       '1': {'mean': 33.75925925925926,\n",
      "                             'std': 13.091744749002167}},\n",
      " 'high_blood_pressure': {'0': {'0': 0.6506849315068494,\n",
      "                               '1': 0.3493150684931507},\n",
      "                         '1': {'0': 0.5925925925925926,\n",
      "                               '1': 0.4074074074074074}},\n",
      " 'platelets': {'0': {'mean': 257836.0774074074, 'std': 107127.13306914888},\n",
      "               '1': {'mean': 257836.0774074074, 'std': 107127.13306914888}},\n",
      " 'serum_creatinine': {'0': {'mean': 1.9898148148148147,\n",
      "                            'std': 1.5333333903017035},\n",
      "                      '1': {'mean': 1.9898148148148147,\n",
      "                            'std': 1.5333333903017035}},\n",
      " 'serum_sodium': {'0': {'mean': 135.11111111111111, 'std': 4.8590187170952275},\n",
      "                  '1': {'mean': 135.11111111111111, 'std': 4.8590187170952275}},\n",
      " 'sex': {'0': {'mean': 0.5925925925925926, 'std': 0.49596555413404597},\n",
      "         '1': {'mean': 0.5925925925925926, 'std': 0.49596555413404597}},\n",
      " 'smoking': {'0': {'mean': 0.2777777777777778, 'std': 0.4521089644358651},\n",
      "             '1': {'mean': 0.2777777777777778, 'std': 0.4521089644358651}},\n",
      " 'time': {'0': {'mean': 68.55555555555556, 'std': 65.98932637153189},\n",
      "          '1': {'mean': 68.55555555555556, 'std': 65.98932637153189}}}\n"
     ]
    }
   ],
   "source": [
    "def train_naive_bayes(x_train, y_train):\n",
    "    # dictionary that stores all probabiltiies for categorical or mean/std for continuous data\n",
    "    prob = dict()\n",
    "    col_y = y_train.name\n",
    "    classes = np.unique(y_train)\n",
    "    df = x_train.copy()\n",
    "    df[col_y] = y_train\n",
    "    \n",
    "    class_counts = y_train.value_counts(normalize=True)\n",
    "    prob['classes'] = {cls: class_counts[cls] for cls in classes}\n",
    "    \n",
    "    # go through each class and calculate piori probabilities for each unique column value\n",
    "    for cls in classes:\n",
    "        tmp = df[df[col_y] == cls]\n",
    "\n",
    "        for col in x_train.columns:\n",
    "            col = str(col)\n",
    "            if col != col_y:\n",
    "                if col not in prob.keys():\n",
    "                    prob[col] = dict()\n",
    "                \n",
    "                prob[col][cls] = dict()\n",
    "\n",
    "                if x_train.dtypes[col] == object:\n",
    "                    val_probs = prior_prob_categorical(tmp[col])\n",
    "                    for val in np.unique(tmp[col]):\n",
    "                        try:\n",
    "                            prob[col][cls][val] = val_probs[val]\n",
    "                        \n",
    "                        except IndexError:\n",
    "                            prob[col][cls][val] = 0\n",
    "\n",
    "                else:\n",
    "                    for cls_2 in classes:\n",
    "                        prob[col][cls_2] = {\n",
    "                            'mean': tmp[col].mean(),\n",
    "                            'std': get_std_dev(tmp[col])}\n",
    "\n",
    "    return prob\n",
    "\n",
    "import pprint\n",
    "prob = train_naive_bayes(x_train, y_train)\n",
    "pprint.pprint(prob)"
   ]
  },
  {
   "cell_type": "code",
   "execution_count": 126,
   "metadata": {},
   "outputs": [
    {
     "data": {
      "text/plain": [
       "0.5757575757575758"
      ]
     },
     "execution_count": 126,
     "metadata": {},
     "output_type": "execute_result"
    }
   ],
   "source": [
    "def predict_naive_bayes(x_test, prob):\n",
    "    classes = list(prob[list(prob.keys())[0]].keys())\n",
    "    y_pred = list()\n",
    "    \n",
    "    # calculate posteri probabilities for each row in test dataset\n",
    "    for i in range(len(x_test)):\n",
    "        row = x_test.iloc[i]\n",
    "        cls_prob = list()\n",
    "        for cls in classes:\n",
    "#             cls = str(cls)\n",
    "            tmp_prob = prob['classes'][cls]\n",
    "            for col in x_test.columns:\n",
    "                try:\n",
    "                    # for categorical data\n",
    "                    tmp_prob *= prob[col][cls][row[col]]\n",
    "                \n",
    "                # for continuous data\n",
    "                except KeyError:\n",
    "                    tmp_prob *= calculate_prob(row[col], prob[col][cls]['mean'], prob[col][cls]['std'])\n",
    "\n",
    "            cls_prob += [(cls, tmp_prob)]\n",
    "\n",
    "        # normalize\n",
    "        s = 0\n",
    "        for c in cls_prob:\n",
    "            s += c[1]\n",
    "            \n",
    "#         print([c[1]/s for c in cls_prob])\n",
    "\n",
    "        y_pred += [max(cls_prob, key=lambda x: x[1])[0]]\n",
    "        \n",
    "    return np.array(y_pred)\n",
    "                    \n",
    "# print(predict_naive_bayes(x_test, prob))\n",
    "accuracy_score(y_test, predict_naive_bayes(x_test, prob))"
   ]
  },
  {
   "cell_type": "code",
   "execution_count": 41,
   "metadata": {},
   "outputs": [],
   "source": [
    "assert(calculate_prob(1, 1, 1)==0.3989422804014327)"
   ]
  },
  {
   "cell_type": "code",
   "execution_count": 26,
   "metadata": {},
   "outputs": [
    {
     "data": {
      "text/plain": [
       "{0: 0.73, 1: 0.27}"
      ]
     },
     "execution_count": 26,
     "metadata": {},
     "output_type": "execute_result"
    }
   ],
   "source": [
    "{k: x for k, x in enumerate(y_train.value_counts(normalize=True))}"
   ]
  },
  {
   "cell_type": "code",
   "execution_count": 23,
   "metadata": {},
   "outputs": [
    {
     "data": {
      "text/plain": [
       "Index(['0', '1'], dtype='object')"
      ]
     },
     "execution_count": 23,
     "metadata": {},
     "output_type": "execute_result"
    }
   ],
   "source": [
    "y_train.value_counts(normalize=True).index\n"
   ]
  },
  {
   "cell_type": "code",
   "execution_count": 14,
   "metadata": {},
   "outputs": [
    {
     "data": {
      "text/plain": [
       "101    0\n",
       "69     1\n",
       "31     1\n",
       "172    0\n",
       "148    1\n",
       "      ..\n",
       "188    0\n",
       "71     0\n",
       "106    0\n",
       "270    0\n",
       "102    0\n",
       "Name: DEATH_EVENT, Length: 200, dtype: object"
      ]
     },
     "execution_count": 14,
     "metadata": {},
     "output_type": "execute_result"
    }
   ],
   "source": [
    "y_train"
   ]
  },
  {
   "cell_type": "code",
   "execution_count": 28,
   "metadata": {},
   "outputs": [
    {
     "data": {
      "text/plain": [
       "2.0"
      ]
     },
     "execution_count": 28,
     "metadata": {},
     "output_type": "execute_result"
    }
   ],
   "source": [
    "4**0.5"
   ]
  },
  {
   "cell_type": "code",
   "execution_count": null,
   "metadata": {},
   "outputs": [],
   "source": []
  }
 ],
 "metadata": {
  "kernelspec": {
   "display_name": "h2o",
   "language": "python",
   "name": "h2o"
  },
  "language_info": {
   "codemirror_mode": {
    "name": "ipython",
    "version": 3
   },
   "file_extension": ".py",
   "mimetype": "text/x-python",
   "name": "python",
   "nbconvert_exporter": "python",
   "pygments_lexer": "ipython3",
   "version": "3.8.2"
  }
 },
 "nbformat": 4,
 "nbformat_minor": 4
}
